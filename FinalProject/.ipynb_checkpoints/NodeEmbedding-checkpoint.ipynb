{
 "cells": [
  {
   "cell_type": "code",
   "execution_count": 1,
   "id": "13093d80",
   "metadata": {},
   "outputs": [
    {
     "name": "stderr",
     "output_type": "stream",
     "text": [
      "2022-12-08 00:41:55.798549: I tensorflow/core/platform/cpu_feature_guard.cc:193] This TensorFlow binary is optimized with oneAPI Deep Neural Network Library (oneDNN) to use the following CPU instructions in performance-critical operations:  SSE4.1 SSE4.2\n",
      "To enable them in other operations, rebuild TensorFlow with the appropriate compiler flags.\n"
     ]
    }
   ],
   "source": [
    "import pandas as pd\n",
    "import networkx as nx\n",
    "from gensim.models import Word2Vec\n",
    "import stellargraph as sg\n",
    "from stellargraph import StellarGraph\n",
    "from stellargraph.data import BiasedRandomWalk\n",
    "import numpy as np\n",
    "import matplotlib.pyplot as plt\n",
    "import random\n",
    "from sklearn.ensemble import GradientBoostingClassifier\n",
    "from sklearn.tree import DecisionTreeClassifier\n",
    "from sklearn.model_selection import train_test_split\n",
    "from sklearn.metrics import accuracy_score, matthews_corrcoef, confusion_matrix, classification_report\n",
    "from __future__ import division\n",
    "import numpy as np\n",
    "from numpy.linalg import inv\n",
    "from scipy.spatial.distance import pdist, squareform\n",
    "import pickle"
   ]
  },
  {
   "cell_type": "markdown",
   "id": "0da5ce41",
   "metadata": {},
   "source": [
    "# Supporting Functions"
   ]
  },
  {
   "cell_type": "code",
   "execution_count": 2,
   "id": "ae3b5884",
   "metadata": {},
   "outputs": [],
   "source": [
    "def DSD_calculator(adjacency, walk_length, restart_p):\n",
    "    \"\"\"\n",
    "    adjacency - adjacency matrix represented as a numpy array\n",
    "                assumes graph is fully connected.\n",
    "    walk_length - the length of random walks used to calculate DSD\n",
    "                  if walk_length = -1, then calculate DSD at convergence\n",
    "    restart_p - the restart probability\n",
    "        if p = 0, then it's a traditional random walk\n",
    "    returns DSD matrix represented as a numpy array\n",
    "    \"\"\"\n",
    "    adjacency = np.asmatrix(adjacency)\n",
    "    n = adjacency.shape[0]\n",
    "    degree = adjacency.sum(axis=1)\n",
    "    p = adjacency / degree\n",
    "    if walk_length >= 0:\n",
    "        c = np.eye(n)\n",
    "        for i in range(walk_length):\n",
    "            c = (1 - restart_p) * np.dot(c, p) + restart_p * np.eye(n)\n",
    "        return squareform(pdist(c,metric='cityblock'))\n",
    "    else:\n",
    "        pi = degree / degree.sum()\n",
    "        return squareform(pdist(inv(np.eye(n) - p - pi.T),metric='cityblock'))"
   ]
  },
  {
   "cell_type": "code",
   "execution_count": 3,
   "id": "d2b4a107",
   "metadata": {},
   "outputs": [],
   "source": [
    "def DSD_calculator(adjacency, walk_length, restart_p):\n",
    "    \"\"\"\n",
    "    adjacency - adjacency matrix represented as a numpy array\n",
    "                assumes graph is fully connected.\n",
    "    walk_length - the length of random walks used to calculate DSD\n",
    "                  if walk_length = -1, then calculate DSD at convergence\n",
    "    restart_p - the restart probability\n",
    "        if p = 0, then it's a traditional random walk\n",
    "    returns DSD matrix represented as a numpy array\n",
    "    \"\"\"\n",
    "    adjacency = np.asmatrix(adjacency)\n",
    "    n = adjacency.shape[0]\n",
    "    degree = adjacency.sum(axis=1)\n",
    "    p = adjacency / degree\n",
    "    if walk_length >= 0:\n",
    "        c = np.eye(n)\n",
    "        for i in range(walk_length):\n",
    "            c = (1 - restart_p) * np.dot(c, p) + restart_p * np.eye(n)\n",
    "        return squareform(pdist(c,metric='cityblock'))\n",
    "    else:\n",
    "        pi = degree / degree.sum()\n",
    "        return squareform(pdist(inv(np.eye(n) - p - pi.T),metric='cityblock'))"
   ]
  },
  {
   "cell_type": "markdown",
   "id": "207606da",
   "metadata": {},
   "source": [
    "# Load Dataset & Construct Graph"
   ]
  },
  {
   "cell_type": "code",
   "execution_count": 4,
   "id": "9b8da418",
   "metadata": {},
   "outputs": [
    {
     "name": "stdout",
     "output_type": "stream",
     "text": [
      "-----------------------\n",
      "Original Graph:\n",
      "Graph with 37700 nodes and 289003 edges\n",
      "-----------------------\n",
      "Picked graph with 3000 nodes:\n",
      "Graph with 2883 nodes and 1525 edges\n",
      "-----------------------\n",
      "Fully Connected smaller graph:\n",
      "Graph with 963 nodes and 1423 edges\n"
     ]
    }
   ],
   "source": [
    "edges_df = pd.read_csv(\"data/git_web_ml/musae_git_edges.csv\")\n",
    "nodes_df = pd.read_csv(\"data/git_web_ml/musae_git_target.csv\")\n",
    "G_github = nx.from_pandas_edgelist(edges_df, source=\"id_1\", target='id_2')\n",
    "print('-----------------------')\n",
    "print('Original Graph:')\n",
    "print(nx.info(G_github))\n",
    "\n",
    "sample_num = 3000\n",
    "sample_nodes = random.choices(list(G_github.nodes()), k=sample_num)\n",
    "G = G_github.subgraph(sample_nodes)\n",
    "print('-----------------------')\n",
    "print('Picked graph with 3000 nodes:')\n",
    "print(nx.info(G))\n",
    "largest_cc = max(nx.connected_components(G), key=len)\n",
    "G = G.subgraph(largest_cc)\n",
    "print('-----------------------')\n",
    "print('Fully Connected smaller graph:')\n",
    "print(nx.info(G))\n",
    "G_github = G\n",
    "# print(G_github.nodes())\n",
    "G = StellarGraph.from_networkx(G_github)"
   ]
  },
  {
   "cell_type": "code",
   "execution_count": 5,
   "id": "490a4735",
   "metadata": {},
   "outputs": [],
   "source": [
    "# Calculate DSD\n",
    "edges = nx.to_numpy_matrix(G_github)\n",
    "DSD = DSD_calculator(edges, 20, 0.2)"
   ]
  },
  {
   "cell_type": "code",
   "execution_count": 6,
   "id": "82004210",
   "metadata": {},
   "outputs": [
    {
     "name": "stdout",
     "output_type": "stream",
     "text": [
      "963\n"
     ]
    }
   ],
   "source": [
    "test = DSD\n",
    "rows = len(DSD)\n",
    "columns = len(DSD[0])\n",
    "for i in range(rows):\n",
    "    for j in range(columns):\n",
    "        if DSD[i][j] == 0:\n",
    "            test[i][j] = DSD[i][j]\n",
    "        else:\n",
    "            test[i][j] = 1.0 / DSD[i][j]\n",
    "\n",
    "print(len(test))\n",
    "node_list = list(G.nodes())\n",
    "nodes_dftest = nodes_df\n",
    "source_list = []\n",
    "target_list = []\n",
    "weight_list = []\n",
    "\n",
    "for edges in G.edges():\n",
    "    node1= edges[0]\n",
    "    node2 = edges[1]\n",
    "    index1 = node_list.index(node1)\n",
    "    index2 = node_list.index(node2)\n",
    "    weight = test[index1][index2]\n",
    "    source_list.append(node1)\n",
    "    target_list.append(node2)\n",
    "    weight_list.append(weight)\n",
    "    \n",
    "weighted_edges = pd.DataFrame(source_list, columns=['source'])\n",
    "weighted_edges['target'] = target_list\n",
    "weighted_edges['weight'] = weight_list\n",
    "G = StellarGraph(edges=weighted_edges)\n",
    "# print(G.info())"
   ]
  },
  {
   "cell_type": "code",
   "execution_count": 7,
   "id": "91ef37ba",
   "metadata": {},
   "outputs": [
    {
     "name": "stdout",
     "output_type": "stream",
     "text": [
      "   id          name  ml_target\n",
      "0   0        Eiryyy          0\n",
      "1   1    shawflying          0\n",
      "2   2   JpMCarrilho          1\n",
      "3   3     SuhwanCha          0\n",
      "4   4  sunilangadi2          1\n"
     ]
    }
   ],
   "source": [
    "print(nodes_df.head())"
   ]
  },
  {
   "cell_type": "markdown",
   "id": "0011fd91",
   "metadata": {},
   "source": [
    "# Random Walk"
   ]
  },
  {
   "cell_type": "code",
   "execution_count": 8,
   "id": "3c01341e",
   "metadata": {},
   "outputs": [],
   "source": [
    "rw = BiasedRandomWalk(G)\n",
    "\n",
    "walks = rw.run(\n",
    "    nodes=G.nodes(),  # root nodes\n",
    "    length=80,  # maximum length of a random walk\n",
    "    n=10,  # number of random walks per root node\n",
    "    p=0.5,  # Defines (unormalised) probability, 1/p, of returning to source node\n",
    "    q=2,  # Defines (unormalised) probability, 1/q, for moving away from source node\n",
    "    weighted=True,  # for weighted random walks\n",
    "    seed=42,  # random seed fixed for reproducibility\n",
    ")"
   ]
  },
  {
   "cell_type": "code",
   "execution_count": 9,
   "id": "379fb162",
   "metadata": {},
   "outputs": [
    {
     "name": "stdout",
     "output_type": "stream",
     "text": [
      "[36890, 26595, 11685, 26595, 11685, 26595, 36890, 26595, 36890, 26595, 36890, 26595, 36890, 26595, 11685, 26595, 11685, 26595, 11685, 26595, 11685, 26595, 11685, 26595, 11685, 26595, 36890, 26595, 15195, 27173, 24894, 27173, 24894, 27173, 15828, 27173, 24894, 27173, 24894, 27173, 37505, 27173, 15195, 27173, 24894, 27173, 36819, 15875, 27925, 15875, 35089, 15875, 35089, 33863, 36576, 33863, 36576, 33863, 36576, 33863, 35089, 33863, 1737, 19876, 19987, 19876, 23098, 19876, 19987, 19876, 19859, 19876, 19987, 19876, 25498, 19876, 25498, 16282, 12630, 25498]\n"
     ]
    }
   ],
   "source": [
    "print(walks[110])"
   ]
  },
  {
   "cell_type": "markdown",
   "id": "5a6cf9f6",
   "metadata": {},
   "source": [
    "# Node Embedding"
   ]
  },
  {
   "cell_type": "code",
   "execution_count": 10,
   "id": "9d9ba107",
   "metadata": {},
   "outputs": [],
   "source": [
    "str_walks = [[str(n) for n in walk] for walk in walks]\n",
    "\n",
    "model = Word2Vec(str_walks, vector_size = 16, window=10, min_count=1, sg=1, workers=4)"
   ]
  },
  {
   "cell_type": "code",
   "execution_count": 11,
   "id": "65f5c366",
   "metadata": {},
   "outputs": [],
   "source": [
    "emb_df = (\n",
    "    pd.DataFrame(\n",
    "        [model.wv.get_vector(str(n)) for n in G.nodes()],\n",
    "        index = G.nodes()\n",
    "    )\n",
    ")"
   ]
  },
  {
   "cell_type": "code",
   "execution_count": 12,
   "id": "38dac50f",
   "metadata": {
    "scrolled": false
   },
   "outputs": [
    {
     "name": "stdout",
     "output_type": "stream",
     "text": [
      "              0         1         2         3         4         5         6  \\\n",
      "10240 -2.670354 -0.894849 -1.434834 -2.842315  1.434970 -2.563948 -1.325668   \n",
      "20486 -1.364016 -0.573321 -0.775646  0.205674 -0.042246 -0.654841 -1.750834   \n",
      "10    -0.753459 -0.888934 -0.741287 -0.837583 -0.469711 -0.395925 -0.576131   \n",
      "16396 -1.072069  0.501650 -1.001305 -1.274024  1.769316 -0.956774  0.250618   \n",
      "24590 -0.875853 -0.131014 -0.121556 -1.087274  2.637292 -0.253239 -0.069273   \n",
      "\n",
      "              7         8         9        10        11        12        13  \\\n",
      "10240  0.993446  3.734835  0.659477  2.740249 -2.967784  0.411044 -0.901932   \n",
      "20486  1.570562  0.310480 -0.143882  0.707318 -1.362441  0.438214  0.482301   \n",
      "10     0.649408  1.365623  0.930770  1.512255 -0.412556 -0.453594 -0.500055   \n",
      "16396  0.939766  0.253950  0.506356 -0.859607 -2.262495  0.305720 -0.370935   \n",
      "24590  0.104321 -0.452859 -0.136926  1.611903 -2.000164 -0.097123 -0.207105   \n",
      "\n",
      "             14        15  ml_target  \n",
      "10240 -0.599746 -0.623630          1  \n",
      "20486  0.850072 -1.039058          0  \n",
      "10    -0.712397  2.037980          0  \n",
      "16396  0.336958 -1.886465          0  \n",
      "24590 -0.308254  0.150084          0  \n"
     ]
    }
   ],
   "source": [
    "test = emb_df.merge(\n",
    "    nodes_df[['id', 'ml_target']].set_index('id'),\n",
    "    left_index = True,\n",
    "    right_index = True\n",
    ")\n",
    "print(test.head())"
   ]
  },
  {
   "cell_type": "markdown",
   "id": "d8deb72a",
   "metadata": {},
   "source": [
    "# Train Classifier"
   ]
  },
  {
   "cell_type": "code",
   "execution_count": 13,
   "id": "89a04392",
   "metadata": {},
   "outputs": [
    {
     "data": {
      "text/html": [
       "<style>#sk-container-id-1 {color: black;background-color: white;}#sk-container-id-1 pre{padding: 0;}#sk-container-id-1 div.sk-toggleable {background-color: white;}#sk-container-id-1 label.sk-toggleable__label {cursor: pointer;display: block;width: 100%;margin-bottom: 0;padding: 0.3em;box-sizing: border-box;text-align: center;}#sk-container-id-1 label.sk-toggleable__label-arrow:before {content: \"▸\";float: left;margin-right: 0.25em;color: #696969;}#sk-container-id-1 label.sk-toggleable__label-arrow:hover:before {color: black;}#sk-container-id-1 div.sk-estimator:hover label.sk-toggleable__label-arrow:before {color: black;}#sk-container-id-1 div.sk-toggleable__content {max-height: 0;max-width: 0;overflow: hidden;text-align: left;background-color: #f0f8ff;}#sk-container-id-1 div.sk-toggleable__content pre {margin: 0.2em;color: black;border-radius: 0.25em;background-color: #f0f8ff;}#sk-container-id-1 input.sk-toggleable__control:checked~div.sk-toggleable__content {max-height: 200px;max-width: 100%;overflow: auto;}#sk-container-id-1 input.sk-toggleable__control:checked~label.sk-toggleable__label-arrow:before {content: \"▾\";}#sk-container-id-1 div.sk-estimator input.sk-toggleable__control:checked~label.sk-toggleable__label {background-color: #d4ebff;}#sk-container-id-1 div.sk-label input.sk-toggleable__control:checked~label.sk-toggleable__label {background-color: #d4ebff;}#sk-container-id-1 input.sk-hidden--visually {border: 0;clip: rect(1px 1px 1px 1px);clip: rect(1px, 1px, 1px, 1px);height: 1px;margin: -1px;overflow: hidden;padding: 0;position: absolute;width: 1px;}#sk-container-id-1 div.sk-estimator {font-family: monospace;background-color: #f0f8ff;border: 1px dotted black;border-radius: 0.25em;box-sizing: border-box;margin-bottom: 0.5em;}#sk-container-id-1 div.sk-estimator:hover {background-color: #d4ebff;}#sk-container-id-1 div.sk-parallel-item::after {content: \"\";width: 100%;border-bottom: 1px solid gray;flex-grow: 1;}#sk-container-id-1 div.sk-label:hover label.sk-toggleable__label {background-color: #d4ebff;}#sk-container-id-1 div.sk-serial::before {content: \"\";position: absolute;border-left: 1px solid gray;box-sizing: border-box;top: 0;bottom: 0;left: 50%;z-index: 0;}#sk-container-id-1 div.sk-serial {display: flex;flex-direction: column;align-items: center;background-color: white;padding-right: 0.2em;padding-left: 0.2em;position: relative;}#sk-container-id-1 div.sk-item {position: relative;z-index: 1;}#sk-container-id-1 div.sk-parallel {display: flex;align-items: stretch;justify-content: center;background-color: white;position: relative;}#sk-container-id-1 div.sk-item::before, #sk-container-id-1 div.sk-parallel-item::before {content: \"\";position: absolute;border-left: 1px solid gray;box-sizing: border-box;top: 0;bottom: 0;left: 50%;z-index: -1;}#sk-container-id-1 div.sk-parallel-item {display: flex;flex-direction: column;z-index: 1;position: relative;background-color: white;}#sk-container-id-1 div.sk-parallel-item:first-child::after {align-self: flex-end;width: 50%;}#sk-container-id-1 div.sk-parallel-item:last-child::after {align-self: flex-start;width: 50%;}#sk-container-id-1 div.sk-parallel-item:only-child::after {width: 0;}#sk-container-id-1 div.sk-dashed-wrapped {border: 1px dashed gray;margin: 0 0.4em 0.5em 0.4em;box-sizing: border-box;padding-bottom: 0.4em;background-color: white;}#sk-container-id-1 div.sk-label label {font-family: monospace;font-weight: bold;display: inline-block;line-height: 1.2em;}#sk-container-id-1 div.sk-label-container {text-align: center;}#sk-container-id-1 div.sk-container {/* jupyter's `normalize.less` sets `[hidden] { display: none; }` but bootstrap.min.css set `[hidden] { display: none !important; }` so we also need the `!important` here to be able to override the default hidden behavior on the sphinx rendered scikit-learn.org. See: https://github.com/scikit-learn/scikit-learn/issues/21755 */display: inline-block !important;position: relative;}#sk-container-id-1 div.sk-text-repr-fallback {display: none;}</style><div id=\"sk-container-id-1\" class=\"sk-top-container\"><div class=\"sk-text-repr-fallback\"><pre>GradientBoostingClassifier()</pre><b>In a Jupyter environment, please rerun this cell to show the HTML representation or trust the notebook. <br />On GitHub, the HTML representation is unable to render, please try loading this page with nbviewer.org.</b></div><div class=\"sk-container\" hidden><div class=\"sk-item\"><div class=\"sk-estimator sk-toggleable\"><input class=\"sk-toggleable__control sk-hidden--visually\" id=\"sk-estimator-id-1\" type=\"checkbox\" checked><label for=\"sk-estimator-id-1\" class=\"sk-toggleable__label sk-toggleable__label-arrow\">GradientBoostingClassifier</label><div class=\"sk-toggleable__content\"><pre>GradientBoostingClassifier()</pre></div></div></div></div></div>"
      ],
      "text/plain": [
       "GradientBoostingClassifier()"
      ]
     },
     "execution_count": 13,
     "metadata": {},
     "output_type": "execute_result"
    }
   ],
   "source": [
    "x = emb_df.values\n",
    "y = test['ml_target'].values\n",
    "\n",
    "x_train, x_test, y_train, y_test = train_test_split(\n",
    "    x, \n",
    "    y,\n",
    "    test_size = 0.3\n",
    ")\n",
    "\n",
    "# GBC classifier\n",
    "clf = GradientBoostingClassifier()\n",
    "\n",
    "# train the model\n",
    "clf.fit(x_train, y_train)"
   ]
  },
  {
   "cell_type": "markdown",
   "id": "3b55d6e9",
   "metadata": {},
   "source": [
    "# Evaluate Classifier"
   ]
  },
  {
   "cell_type": "code",
   "execution_count": 14,
   "id": "e967d54a",
   "metadata": {},
   "outputs": [
    {
     "name": "stdout",
     "output_type": "stream",
     "text": [
      "0.8650519031141869\n"
     ]
    }
   ],
   "source": [
    "print(clf.score(x_test, y_test))"
   ]
  },
  {
   "cell_type": "code",
   "execution_count": 15,
   "id": "66661e8f",
   "metadata": {},
   "outputs": [],
   "source": [
    "def DSD_calculator(adjacency, walk_length, restart_p):\n",
    "    \"\"\"\n",
    "    adjacency - adjacency matrix represented as a numpy array\n",
    "                assumes graph is fully connected.\n",
    "    walk_length - the length of random walks used to calculate DSD\n",
    "                  if walk_length = -1, then calculate DSD at convergence\n",
    "    restart_p - the restart probability\n",
    "        if p = 0, then it's a traditional random walk\n",
    "    returns DSD matrix represented as a numpy array\n",
    "    \"\"\"\n",
    "    adjacency = np.asmatrix(adjacency)\n",
    "    n = adjacency.shape[0]\n",
    "    degree = adjacency.sum(axis=1)\n",
    "    p = adjacency / degree\n",
    "    if walk_length >= 0:\n",
    "        c = np.eye(n)\n",
    "        for i in range(walk_length):\n",
    "            c = (1 - restart_p) * np.dot(c, p) + restart_p * np.eye(n)\n",
    "        return squareform(pdist(c,metric='cityblock'))\n",
    "    else:\n",
    "        pi = degree / degree.sum()\n",
    "        return squareform(pdist(inv(np.eye(n) - p - pi.T),metric='cityblock'))"
   ]
  },
  {
   "cell_type": "code",
   "execution_count": 26,
   "id": "1aed9ba9",
   "metadata": {},
   "outputs": [
    {
     "name": "stdout",
     "output_type": "stream",
     "text": [
      "[[0. 3. 8.]\n",
      " [3. 0. 9.]\n",
      " [8. 9. 0.]]\n"
     ]
    }
   ],
   "source": [
    "X = np.array([[0,2,3], [1,0,3], [3,4,0]])\n",
    "dist_matrix = pdist(X, metric = 'cityblock')\n",
    "# dist_matrix = pdist(X)\n",
    "# print(dist_matrix)\n",
    "print(squareform(dist_matrix))"
   ]
  },
  {
   "cell_type": "code",
   "execution_count": null,
   "id": "78cb95e9",
   "metadata": {},
   "outputs": [],
   "source": []
  }
 ],
 "metadata": {
  "kernelspec": {
   "display_name": "Python 3 (ipykernel)",
   "language": "python",
   "name": "python3"
  },
  "language_info": {
   "codemirror_mode": {
    "name": "ipython",
    "version": 3
   },
   "file_extension": ".py",
   "mimetype": "text/x-python",
   "name": "python",
   "nbconvert_exporter": "python",
   "pygments_lexer": "ipython3",
   "version": "3.9.13"
  }
 },
 "nbformat": 4,
 "nbformat_minor": 5
}
