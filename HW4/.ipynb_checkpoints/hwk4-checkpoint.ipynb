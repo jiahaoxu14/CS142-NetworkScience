{
 "cells": [
  {
   "cell_type": "code",
   "execution_count": 1,
   "id": "005cdf90",
   "metadata": {},
   "outputs": [],
   "source": [
    "import networkx as nx\n",
    "import pandas as pd\n",
    "import numpy as np\n",
    "import matplotlib.pyplot as plt\n",
    "from itertools import combinations\n",
    "from sklearn.preprocessing import normalize"
   ]
  },
  {
   "cell_type": "markdown",
   "id": "868a08e3",
   "metadata": {},
   "source": [
    "## Question1"
   ]
  },
  {
   "cell_type": "code",
   "execution_count": 118,
   "id": "4bdd8a71",
   "metadata": {},
   "outputs": [],
   "source": [
    "def pagerank(G, d = 0.85, max_iter = 100, personalized = None):\n",
    "    # Parameters:\n",
    "    #     G is the input graph \n",
    "    #     d is the dampling factor\n",
    "    #     max_iter is the maximum iterations \n",
    "    #     personalized is the personalized dictionary\n",
    "    # Return:\n",
    "    #     nodes' pageranks.\n",
    "    \n",
    "    # if not directed, transform it to directed graph\n",
    "    G = G.to_directed()\n",
    "    N = G.number_of_nodes()\n",
    "    \n",
    "    # the order of nodes\n",
    "    node_list = np.arange(1, N+1, 1, dtype=int)\n",
    "    \n",
    "    # normalize graph matrix by columns\n",
    "    A = nx.to_numpy_matrix(G, nodelist=node_list)\n",
    "    A = np.array(A)\n",
    "    A_normalized = normalize(A, axis=0, norm='l1')\n",
    "    \n",
    "    # calculate transition matrix and initial vector\n",
    "    v = np.ones(N) / N\n",
    "    v_0 = v\n",
    "    P = ((1 - d)/ N + d * A_normalized)\n",
    "\n",
    "    # iterate \n",
    "    for i in range(max_iter):\n",
    "        v_curr = v\n",
    "        v = ((1 - d) * v_0 + d * P @ v_curr)\n",
    "        # check convergence\n",
    "        err = sum(abs(v[n] - v_curr[n]) for n in range(v.shape[0]))\n",
    "        if err < N * 1.0e-6:\n",
    "            return v\n",
    "        \n",
    "    raise Exception(\"PageRank didn't converge\")"
   ]
  },
  {
   "cell_type": "markdown",
   "id": "4935e32e",
   "metadata": {},
   "source": [
    "# Question2"
   ]
  },
  {
   "cell_type": "code",
   "execution_count": 3,
   "id": "82936b1d",
   "metadata": {},
   "outputs": [],
   "source": [
    "f_hollins = open(\"hollins/hollins.dat\", \"r\")\n",
    "data_hollins = f_hollins.readlines()\n",
    "edgelist_hollins = pd.DataFrame(columns=['source', 'target'])\n",
    "\n",
    "for edge in data_hollins[6013:]:\n",
    "    edge = edge.split(' ')\n",
    "    edge[0] = int(edge[0])\n",
    "    edge[1] = int(edge[1])\n",
    "    edgelist_hollins.loc[len(edgelist_hollins.index)] = [edge[0], edge[1]]"
   ]
  },
  {
   "cell_type": "code",
   "execution_count": 4,
   "id": "931a56d2",
   "metadata": {},
   "outputs": [],
   "source": [
    "G_hollin = nx.from_pandas_edgelist(edgelist_hollins,\n",
    "                                   source='source',\n",
    "                                   target='target', \n",
    "                                   edge_attr=None, \n",
    "                                   create_using=nx.DiGraph())"
   ]
  },
  {
   "cell_type": "code",
   "execution_count": 120,
   "id": "205183e6",
   "metadata": {},
   "outputs": [
    {
     "name": "stdout",
     "output_type": "stream",
     "text": [
      "0.011258540172189512\n",
      "0.020209640931177636\n"
     ]
    }
   ],
   "source": [
    "pagerank_hollins = pagerank(G_hollin)\n",
    "pr = nx.pagerank(G_hollin, alpha=0.85)\n",
    "print(max(pagerank_hollins))\n",
    "print(max(pr.values()))"
   ]
  },
  {
   "cell_type": "code",
   "execution_count": 97,
   "id": "ae910e95",
   "metadata": {},
   "outputs": [
    {
     "name": "stdout",
     "output_type": "stream",
     "text": [
      "0.020209640931177636\n"
     ]
    }
   ],
   "source": []
  },
  {
   "cell_type": "code",
   "execution_count": null,
   "id": "cbaa0c18",
   "metadata": {},
   "outputs": [],
   "source": []
  }
 ],
 "metadata": {
  "kernelspec": {
   "display_name": "Python 3 (ipykernel)",
   "language": "python",
   "name": "python3"
  },
  "language_info": {
   "codemirror_mode": {
    "name": "ipython",
    "version": 3
   },
   "file_extension": ".py",
   "mimetype": "text/x-python",
   "name": "python",
   "nbconvert_exporter": "python",
   "pygments_lexer": "ipython3",
   "version": "3.9.13"
  }
 },
 "nbformat": 4,
 "nbformat_minor": 5
}
