{
 "cells": [
  {
   "cell_type": "code",
   "execution_count": 1,
   "id": "005cdf90",
   "metadata": {},
   "outputs": [],
   "source": [
    "import networkx as nx\n",
    "import pandas as pd\n",
    "import numpy as np\n",
    "import matplotlib.pyplot as plt\n",
    "from itertools import combinations\n",
    "from sklearn.preprocessing import normalize"
   ]
  },
  {
   "cell_type": "markdown",
   "id": "868a08e3",
   "metadata": {},
   "source": [
    "## Question1"
   ]
  },
  {
   "cell_type": "code",
   "execution_count": 98,
   "id": "4bdd8a71",
   "metadata": {},
   "outputs": [],
   "source": [
    "def pagerank(G, d = 0.85, max_iter = 100, personalized = None):\n",
    "    # Parameters:\n",
    "    #     G is the input graph \n",
    "    #     d is the dampling factor\n",
    "    #     max_iter is the maximum iterations \n",
    "    #     personalized is the personalized dictionary\n",
    "    # Return:\n",
    "    #     nodes' pageranks.\n",
    "    \n",
    "    # if not directed, transform it to directed graph\n",
    "    G = G.to_directed()\n",
    "    N = G.number_of_nodes()\n",
    "    \n",
    "    # the order of nodes\n",
    "    node_list = sorted(G.nodes)\n",
    "    \n",
    "    # normalize graph matrix by columns\n",
    "    A = nx.to_numpy_matrix(G, nodelist=node_list)\n",
    "    A = np.array(A)\n",
    "    A_normalized = normalize(A, axis=0, norm='l1')\n",
    "    \n",
    "    # calculate transition matrix and initial vector\n",
    "    v = np.ones(N) / N\n",
    "    v_0 = v\n",
    "    P = ((1 - d)/ N + d * A_normalized)\n",
    "\n",
    "    # iterate \n",
    "    for i in range(max_iter):\n",
    "        v_curr = v\n",
    "        v = ((1 - d) * v_0 + d * P @ v_curr)\n",
    "        # check convergence\n",
    "        err = sum(abs(v[n] - v_curr[n]) for n in range(v.shape[0]))\n",
    "        if err < N * 1.0e-6:\n",
    "            return v\n",
    "        \n",
    "    raise Exception(\"PageRank didn't converge\")"
   ]
  },
  {
   "cell_type": "markdown",
   "id": "4935e32e",
   "metadata": {},
   "source": [
    "# Question2"
   ]
  },
  {
   "cell_type": "code",
   "execution_count": 26,
   "id": "82936b1d",
   "metadata": {},
   "outputs": [],
   "source": [
    "f_hollins = open(\"hollins/hollins.dat\", \"r\")\n",
    "data_hollins = f_hollins.readlines()\n",
    "edgelist_hollins = pd.DataFrame(columns=['source', 'target'])\n",
    "link_hollins = data_hollins[1:6013]\n",
    "\n",
    "for edge in data_hollins[6013:]:\n",
    "    edge = edge.split(' ')\n",
    "    edge[0] = int(edge[0])\n",
    "    edge[1] = int(edge[1])\n",
    "    edgelist_hollins.loc[len(edgelist_hollins.index)] = [edge[0], edge[1]]"
   ]
  },
  {
   "cell_type": "code",
   "execution_count": 4,
   "id": "931a56d2",
   "metadata": {},
   "outputs": [],
   "source": [
    "G_hollin = nx.from_pandas_edgelist(edgelist_hollins,\n",
    "                                   source='source',\n",
    "                                   target='target', \n",
    "                                   edge_attr=None, \n",
    "                                   create_using=nx.DiGraph())"
   ]
  },
  {
   "cell_type": "code",
   "execution_count": 5,
   "id": "205183e6",
   "metadata": {},
   "outputs": [
    {
     "name": "stdout",
     "output_type": "stream",
     "text": [
      "0.011258540172189512\n",
      "0.020209640931177636\n"
     ]
    }
   ],
   "source": [
    "pagerank_hollins = pagerank(G_hollin)\n",
    "pr = nx.pagerank(G_hollin, alpha=0.85)\n",
    "print(max(pagerank_hollins))\n",
    "print(max(pr.values()))"
   ]
  },
  {
   "cell_type": "code",
   "execution_count": 22,
   "id": "b98a6104",
   "metadata": {},
   "outputs": [],
   "source": [
    "key_hollions = list(range(1, G_hollin.number_of_nodes() + 1))\n",
    "pagedict_hollins = dict(zip(key_hollions, pagerank_hollins))"
   ]
  },
  {
   "cell_type": "code",
   "execution_count": 23,
   "id": "ae910e95",
   "metadata": {},
   "outputs": [],
   "source": [
    "with open('p1.txt', 'w') as file:\n",
    "    for n,value in enumerate(pagerank_hollins, 1):\n",
    "        file.write(str(n))\n",
    "        file.write('\\t')\n",
    "        file.write(str(value))\n",
    "        file.write('\\n')"
   ]
  },
  {
   "cell_type": "code",
   "execution_count": 43,
   "id": "cbaa0c18",
   "metadata": {},
   "outputs": [
    {
     "name": "stdout",
     "output_type": "stream",
     "text": [
      "pages with the five highest Pagerank valuse are\n",
      "\n",
      "622 http://www.hollins.edu/campuslife/clubs/elective.htm \n",
      "\n",
      "2 http://www.hollins.edu/ \n",
      "\n",
      "2995 http://www1.hollins.edu/registrar/How%20to%20Calculate%20your%20GPA.doc \n",
      "\n",
      "1824 http://www1.hollins.edu/registrar/schedule_of_classes.htm \n",
      "\n",
      "431 http://www.hollins.edu/cgi-bin/sugform1.cgi \n",
      "\n",
      "pages with the five lowest Pagerank valuse are\n",
      "\n",
      "4 http://www1.hollins.edu/Docs/Forms/GetForms.htm \n",
      "\n",
      "68 http://www.hollins.edu/academics/library/services/acq.htm \n",
      "\n",
      "74 http://www.hollins.edu/admissions/ugradadm/facts/facts.htm \n",
      "\n",
      "92 http://www1.hollins.edu/registrar/registrar.htm \n",
      "\n",
      "108 http://www1.hollins.edu/Registrar/Final%202004-05%20calendar.pdf \n",
      "\n"
     ]
    }
   ],
   "source": [
    "index_5high = sorted(pagedict_hollins, key=pagedict_hollins.get, reverse=True)[:5]\n",
    "index_5low = sorted(pagedict_hollins, key=pagedict_hollins.get, reverse=False)[:5]\n",
    "\n",
    "print(\"pages with the five highest Pagerank valuse are\\n\")\n",
    "for n in index_5high:\n",
    "    print(link_hollins[n])\n",
    "\n",
    "print(\"pages with the five lowest Pagerank valuse are\\n\")\n",
    "for n in index_5low:\n",
    "    print(link_hollins[n])"
   ]
  },
  {
   "cell_type": "markdown",
   "id": "4312afaf",
   "metadata": {},
   "source": [
    "# Question3"
   ]
  },
  {
   "cell_type": "code",
   "execution_count": 72,
   "id": "522ba5df",
   "metadata": {},
   "outputs": [],
   "source": [
    "f_blogs = open(\"blogs/blogs.dat\", \"r\")\n",
    "data_blogs = f_blogs.readlines()\n",
    "rowlabels_blogs = data_blogs[4:1494]\n",
    "collabels_blogs = data_blogs[1495:2985]\n",
    "edgelist_blogs = data_blogs[2986:]\n",
    "\n",
    "dataframe_blogs = pd.DataFrame(columns=['source', 'target'])\n",
    "\n",
    "for edge in edgelist_blogs:\n",
    "    edge = edge.strip()\n",
    "    edge = edge.split(' ')\n",
    "    if edge[0] == '!':\n",
    "        break\n",
    "    edge[0] = int(edge[0])\n",
    "    edge[1] = int(edge[1])\n",
    "    edge[2] = int(edge[2])\n",
    "    if edge[2] == 1:\n",
    "        dataframe_blogs.loc[len(dataframe_blogs.index)] = [edge[0], edge[1]]"
   ]
  },
  {
   "cell_type": "code",
   "execution_count": 73,
   "id": "74f11da3",
   "metadata": {},
   "outputs": [],
   "source": [
    "G_blog = nx.from_pandas_edgelist(dataframe_blogs,\n",
    "                                   source='source',\n",
    "                                   target='target', \n",
    "                                   edge_attr=None, \n",
    "                                   create_using=nx.DiGraph())"
   ]
  },
  {
   "cell_type": "code",
   "execution_count": 100,
   "id": "3b99b5a8",
   "metadata": {},
   "outputs": [
    {
     "name": "stdout",
     "output_type": "stream",
     "text": [
      "0.022456987785429552\n",
      "0.01869156756601579\n"
     ]
    }
   ],
   "source": [
    "pagerank_blog = pagerank(G_blog)\n",
    "pr_blog = nx.pagerank(G_blog, alpha=0.85)\n",
    "print(max(pagerank_blog))\n",
    "print(max(pr_blog.values()))"
   ]
  },
  {
   "cell_type": "code",
   "execution_count": 116,
   "id": "846b7366",
   "metadata": {},
   "outputs": [],
   "source": [
    "pagelist_blog = list(zip(sorted(G_blog.nodes), pagerank_hollins))\n",
    "pagedict_blog = dict(zip(sorted(G_blog.nodes), pagerank_hollins))"
   ]
  },
  {
   "cell_type": "code",
   "execution_count": 117,
   "id": "9d2317f3",
   "metadata": {},
   "outputs": [],
   "source": [
    "with open('p2.txt', 'w') as file:\n",
    "    for n,value in pagelist_blog:\n",
    "        file.write(str(n))\n",
    "        file.write('\\t')\n",
    "        file.write(str(value))\n",
    "        file.write('\\n')"
   ]
  },
  {
   "cell_type": "code",
   "execution_count": null,
   "id": "63df3a7b",
   "metadata": {},
   "outputs": [],
   "source": [
    "index_5high = sorted(pagedict_blog, key=pagedict_blog.get, reverse=True)[:5]\n",
    "index_5low = sorted(pagedict_blog, key=pagedict_blog.get, reverse=False)[:5]\n",
    "\n",
    "print(\"pages with the five highest Pagerank valuse are\\n\")\n",
    "for n in index_5high:\n",
    "    print(link_hollins[n])\n",
    "\n",
    "print(\"pages with the five lowest Pagerank valuse are\\n\")\n",
    "for n in index_5low:\n",
    "    print(link_hollins[n])"
   ]
  }
 ],
 "metadata": {
  "kernelspec": {
   "display_name": "Python 3 (ipykernel)",
   "language": "python",
   "name": "python3"
  },
  "language_info": {
   "codemirror_mode": {
    "name": "ipython",
    "version": 3
   },
   "file_extension": ".py",
   "mimetype": "text/x-python",
   "name": "python",
   "nbconvert_exporter": "python",
   "pygments_lexer": "ipython3",
   "version": "3.9.13"
  }
 },
 "nbformat": 4,
 "nbformat_minor": 5
}
