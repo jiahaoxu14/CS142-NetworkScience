{
 "cells": [
  {
   "cell_type": "code",
   "execution_count": 1,
   "id": "005cdf90",
   "metadata": {},
   "outputs": [],
   "source": [
    "import networkx as nx\n",
    "import pandas as pd\n",
    "import numpy as np\n",
    "import matplotlib.pyplot as plt\n",
    "from itertools import combinations"
   ]
  },
  {
   "cell_type": "markdown",
   "id": "868a08e3",
   "metadata": {},
   "source": [
    "## Question1"
   ]
  },
  {
   "cell_type": "code",
   "execution_count": 2,
   "id": "4bdd8a71",
   "metadata": {},
   "outputs": [],
   "source": [
    "def pagerank(G, d = 0.85, max_iter = 100, personalied = None):\n",
    "    return 1;"
   ]
  },
  {
   "cell_type": "code",
   "execution_count": null,
   "id": "19866b62",
   "metadata": {},
   "outputs": [],
   "source": []
  }
 ],
 "metadata": {
  "kernelspec": {
   "display_name": "Python 3 (ipykernel)",
   "language": "python",
   "name": "python3"
  },
  "language_info": {
   "codemirror_mode": {
    "name": "ipython",
    "version": 3
   },
   "file_extension": ".py",
   "mimetype": "text/x-python",
   "name": "python",
   "nbconvert_exporter": "python",
   "pygments_lexer": "ipython3",
   "version": "3.9.13"
  }
 },
 "nbformat": 4,
 "nbformat_minor": 5
}
